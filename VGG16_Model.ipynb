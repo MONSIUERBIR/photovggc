{
  "nbformat": 4,
  "nbformat_minor": 0,
  "metadata": {
    "colab": {
      "provenance": []
    },
    "kernelspec": {
      "name": "python3",
      "display_name": "Python 3"
    },
    "accelerator": "TPU"
  },
  "cells": [
    {
      "cell_type": "code",
      "metadata": {
        "id": "9Ti352zjvlNO"
      },
      "source": [
        "from __future__ import absolute_import, division, print_function\n",
        "from tqdm import tqdm\n",
        "from numpy.random import randn\n",
        "\n",
        "\n",
        "import cv2\n",
        "import pathlib\n",
        "import random\n",
        "import matplotlib.pyplot as plt\n",
        "\n",
        "import tensorflow as tf\n",
        "import numpy as np\n",
        "\n",
        "from matplotlib.image import imread\n",
        "from keras.preprocessing import image"
      ],
      "execution_count": null,
      "outputs": []
    },
    {
      "cell_type": "code",
      "metadata": {
        "id": "omwkh2jt0AQp"
      },
      "source": [
        "keras=tf.keras"
      ],
      "execution_count": null,
      "outputs": []
    },
    {
      "cell_type": "code",
      "metadata": {
        "id": "pzvhbUgEv0jt"
      },
      "source": [
        "data_root = tf.keras.utils.get_file(\n",
        "  'flower_photos','https://storage.googleapis.com/download.tensorflow.org/example_images/flower_photos.tgz',\n",
        "   untar=True)"
      ],
      "execution_count": null,
      "outputs": []
    },
    {
      "cell_type": "code",
      "metadata": {
        "id": "pGH5irr6wGlw"
      },
      "source": [
        "data_dir = pathlib.Path(data_root)\n",
        "CLASS_NAMES = np.array([item.name for item in data_dir.glob('*') if item.name != \"LICENSE.txt\"])\n",
        "CLASS_NAMES"
      ],
      "execution_count": null,
      "outputs": []
    },
    {
      "cell_type": "code",
      "metadata": {
        "id": "xgeRdwDCwJEM"
      },
      "source": [
        "all_images = list(data_dir.glob('*/*'))\n",
        "all_images = [str(path) for path in all_images]\n",
        "random.shuffle(all_images)\n",
        "\n",
        "data_size=len(all_images)"
      ],
      "execution_count": null,
      "outputs": []
    },
    {
      "cell_type": "code",
      "metadata": {
        "id": "AV1s4vpMAMxh"
      },
      "source": [
        "channels = 3\n",
        "IMG_SIZE=150\n",
        "\n",
        "dataset = np.ndarray(shape=(len(all_images), IMG_SIZE, IMG_SIZE,channels),\n",
        "                     dtype=np.float32)\n",
        "\n",
        "i = 0\n",
        "for _file in all_images:\n",
        "  image = cv2.imread(_file, 1)\n",
        "  image=cv2.resize(image, (IMG_SIZE, IMG_SIZE))\n",
        "\n",
        "  dataset[i] = image\n",
        "  i += 1\n",
        "print(\"All images to array!\")"
      ],
      "execution_count": null,
      "outputs": []
    },
    {
      "cell_type": "code",
      "metadata": {
        "id": "Mz_rKauHZuVv"
      },
      "source": [
        "dataset=dataset/255.\n",
        "dataset.min(),dataset.max(),dataset.shape"
      ],
      "execution_count": null,
      "outputs": []
    },
    {
      "cell_type": "code",
      "metadata": {
        "id": "3NL_FJo3JXMf"
      },
      "source": [
        "mean = dataset.mean(axis=(0,1,2))\n",
        "std = dataset.std(axis=(0,1,2))\n",
        "print(mean, std)"
      ],
      "execution_count": null,
      "outputs": []
    },
    {
      "cell_type": "code",
      "metadata": {
        "id": "skUxoHVSq_xk"
      },
      "source": [
        "dataset[..., 0] -= mean[0]\n",
        "dataset[..., 1] -= mean[1]\n",
        "dataset[..., 2] -= mean[2]"
      ],
      "execution_count": null,
      "outputs": []
    },
    {
      "cell_type": "code",
      "metadata": {
        "id": "wiu8eSmGJh1m"
      },
      "source": [
        "dataset.min(axis=(0,1,2)),dataset.max(axis=(0,1,2))"
      ],
      "execution_count": null,
      "outputs": []
    },
    {
      "cell_type": "code",
      "metadata": {
        "id": "Lox5ExIfBxiC"
      },
      "source": [
        "dataset[..., 0] /= std[0]\n",
        "dataset[..., 1] /= std[1]\n",
        "dataset[..., 2] /= std[2]"
      ],
      "execution_count": null,
      "outputs": []
    },
    {
      "cell_type": "code",
      "metadata": {
        "id": "hZQVrbN-TiNj"
      },
      "source": [
        "dataset.min(axis=(0,1,2)),dataset.max(axis=(0,1,2))"
      ],
      "execution_count": null,
      "outputs": []
    },
    {
      "cell_type": "code",
      "metadata": {
        "id": "riVYr4j0fG3X"
      },
      "source": [
        "train_test_split=(int)(data_size*0.2)\n",
        "\n",
        "x_train=all_images[train_test_split:]\n",
        "x_test=all_images[:train_test_split]\n",
        "\n",
        "y_train=all_labels[train_test_split:]\n",
        "y_test=all_labels[:train_test_split]"
      ],
      "execution_count": null,
      "outputs": []
    },
    {
      "cell_type": "code",
      "metadata": {
        "id": "9BXHhZ-zkdzm"
      },
      "source": [
        "\n",
        "BATCH_SIZE = 32\n",
        "\n",
        "def _parse_data(x,y):\n",
        "  image = tf.read_file(x)\n",
        "  image = tf.image.decode_jpeg(image, channels=3)\n",
        "  image = tf.cast(image, tf.float32)\n",
        "  image = (image/127.5) - 1\n",
        "  image = tf.image.resize(image, (IMG_SIZE, IMG_SIZE))\n",
        "\n",
        "  return image,y\n",
        "\n",
        "def _input_fn(x,y):\n",
        "  ds=tf.data.Dataset.from_tensor_slices((x,y))\n",
        "  ds=ds.map(_parse_data)\n",
        "  ds=ds.shuffle(buffer_size=data_size)\n",
        "\n",
        "\n",
        "  ds = ds.repeat()\n",
        "\n",
        "  ds = ds.batch(BATCH_SIZE)\n",
        "\n",
        "  ds = ds.prefetch(buffer_size=AUTOTUNE)\n",
        "\n",
        "  return ds\n",
        "\n",
        "\n",
        "tf.keras.applications.vgg16.preprocess_input"
      ],
      "execution_count": null,
      "outputs": []
    },
    {
      "cell_type": "code",
      "metadata": {
        "id": "Dyap3Etkl0B6"
      },
      "source": [
        "IMG_SHAPE = (IMG_SIZE, IMG_SIZE, 3)\n",
        "VGG16_MODEL=tf.keras.applications.VGG16(input_shape=IMG_SHAPE,\n",
        "                                               include_top=False,\n",
        "                                               weights='imagenet')\n"
      ],
      "execution_count": null,
      "outputs": []
    },
    {
      "cell_type": "code",
      "metadata": {
        "id": "zuKMHsq8mHEk"
      },
      "source": [
        "VGG16_MODEL.trainable=False\n",
        "global_average_layer = tf.keras.layers.GlobalAveragePooling2D()\n",
        "prediction_layer = tf.keras.layers.Dense(len(CLASS_NAMES),activation='softmax')"
      ],
      "execution_count": null,
      "outputs": []
    },
    {
      "cell_type": "code",
      "metadata": {
        "id": "Ff61IuLj2fZI"
      },
      "source": [
        "model = tf.keras.Sequential([\n",
        "  VGG16_MODEL,\n",
        "  global_average_layer,\n",
        "  prediction_layer\n",
        "])"
      ],
      "execution_count": null,
      "outputs": []
    },
    {
      "cell_type": "code",
      "metadata": {
        "id": "iiBFX8FW5VRX"
      },
      "source": [
        "model.compile(optimizer=tf.train.AdamOptimizer(),\n",
        "              loss=tf.keras.losses.sparse_categorical_crossentropy,\n",
        "              metrics=[\"accuracy\"])"
      ],
      "execution_count": null,
      "outputs": []
    },
    {
      "cell_type": "code",
      "metadata": {
        "id": "HK9GImtB5_eG"
      },
      "source": [
        "train_ds=_input_fn(x_train,y_train)\n",
        "validation_ds=_input_fn(x_test,y_test)"
      ],
      "execution_count": null,
      "outputs": []
    },
    {
      "cell_type": "code",
      "metadata": {
        "id": "HIvEm2ybedds"
      },
      "source": [
        "history = model.fit(train_ds,\n",
        "                    epochs=100,\n",
        "                    steps_per_epoch=2,\n",
        "                    validation_steps=2,\n",
        "                    validation_data=validation_ds)"
      ],
      "execution_count": null,
      "outputs": []
    },
    {
      "cell_type": "code",
      "metadata": {
        "id": "GHRf_t_MphOK"
      },
      "source": [
        "validation_steps = 20\n",
        "\n",
        "loss0,accuracy0 = model.evaluate(validation_ds, steps = validation_steps)\n",
        "\n",
        "print(\"loss: {:.2f}\".format(loss0))\n",
        "print(\"accuracy: {:.2f}\".format(accuracy0))"
      ],
      "execution_count": null,
      "outputs": []
    },
    {
      "cell_type": "code",
      "metadata": {
        "id": "y3oaE5YW_dZk"
      },
      "source": [
        "plt.plot(history.history['acc'])\n",
        "plt.plot(history.history['val_acc'])\n",
        "plt.title('model accuracy')\n",
        "plt.ylabel('accuracy')\n",
        "plt.xlabel('epoch')\n",
        "plt.legend(['train', 'test'], loc='upper left')\n",
        "plt.show()"
      ],
      "execution_count": null,
      "outputs": []
    },
    {
      "cell_type": "code",
      "metadata": {
        "id": "81i8a0QpAzAM"
      },
      "source": [
        "# summarize history for loss\n",
        "plt.plot(history.history['loss'])\n",
        "plt.plot(history.history['val_loss'])\n",
        "plt.title('model loss')\n",
        "plt.ylabel('loss')\n",
        "plt.xlabel('epoch')\n",
        "plt.legend(['train', 'test'], loc='upper left')\n",
        "plt.show()"
      ],
      "execution_count": null,
      "outputs": []
    },
    {
      "cell_type": "code",
      "metadata": {
        "id": "794xQvpHBl1S"
      },
      "source": [
        "from random import randint\n",
        "\n",
        "img_id=randint(2,len(x_test))\n",
        "\n",
        "image = tf.read_file(x_test[img_id])\n",
        "image = tf.image.decode_jpeg(image, channels=3)\n",
        "image = tf.cast(image, tf.float32)\n",
        "image = (image/127.5) - 1\n",
        "image = tf.image.resize(image, (IMG_SIZE, IMG_SIZE))\n",
        "\n",
        "image=tf.expand_dims(image, 0)\n"
      ],
      "execution_count": null,
      "outputs": []
    },
    {
      "cell_type": "code",
      "metadata": {
        "id": "cHgnfBiURN-8"
      },
      "source": [
        "model.predict(image)\n"
      ],
      "execution_count": null,
      "outputs": []
    }
  ]
}